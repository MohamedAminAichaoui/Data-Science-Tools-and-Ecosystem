{
 "cells": [
  {
   "cell_type": "markdown",
   "id": "ae9819ef-04bd-4bdb-bc1d-4360b5b55e27",
   "metadata": {},
   "source": [
    "# Data Science Tools and Ecosystem\n"
   ]
  },
  {
   "cell_type": "markdown",
   "id": "af66b3fd-54f6-49b9-9cc6-48b823973810",
   "metadata": {},
   "source": [
    "#### In this notebook, Data Science Tools and Ecosystem are summarized."
   ]
  },
  {
   "cell_type": "markdown",
   "id": "06014d3c-b9c7-4cdc-8d92-26a86a1eefb9",
   "metadata": {},
   "source": [
    "###### Some of popular languages that Data Scientists use are :\n",
    "1. Python\n",
    "2. R\n",
    "3. SQL"
   ]
  },
  {
   "cell_type": "markdown",
   "id": "a8f3e82d-eba8-49e5-87a7-522917448140",
   "metadata": {},
   "source": [
    "###### Some of the commonly used libraries used by Data Scientists include :\n",
    "1. Pandas\n",
    "2. NumPy\n",
    "3. Scipy"
   ]
  },
  {
   "cell_type": "markdown",
   "id": "e7e0cc49-1a33-4e49-8ca8-702348c909d2",
   "metadata": {},
   "source": [
    "| Data Science Tools |\n",
    "|-------------------|\n",
    "| Jupyter Notebook  |\n",
    "| RStudio           |\n",
    "| VS Code           |\n"
   ]
  },
  {
   "cell_type": "markdown",
   "id": "4e07bc6b-10f3-4f0c-b97e-46c7045bd1dc",
   "metadata": {},
   "source": [
    "### Below are a few examples of evaluating arithmetic expressions in Python"
   ]
  },
  {
   "cell_type": "code",
   "execution_count": 2,
   "id": "ea5bfed0-5dbe-4c14-ab34-e6c4ab79f3dd",
   "metadata": {
    "tags": []
   },
   "outputs": [
    {
     "name": "stdout",
     "output_type": "stream",
     "text": [
      "17\n"
     ]
    }
   ],
   "source": [
    "# This is a simple arithmetic expression to multiply then add integers :\n",
    "result = (3*4) + 5\n",
    "print(result)\n"
   ]
  },
  {
   "cell_type": "code",
   "execution_count": 4,
   "id": "a82633d6-dd82-4112-8281-5fa9d697271e",
   "metadata": {
    "tags": []
   },
   "outputs": [
    {
     "name": "stdout",
     "output_type": "stream",
     "text": [
      "3.3333333333333335\n"
     ]
    }
   ],
   "source": [
    "# This will convert 200 minutes to hours by dividing by 60 :\n",
    "minutes = 200\n",
    "hours = minutes / 60\n",
    "print(hours)"
   ]
  },
  {
   "cell_type": "markdown",
   "id": "c673297e-d61f-4e1e-a002-2e61b560cef3",
   "metadata": {},
   "source": [
    "**Objectives:**\n",
    "\n",
    "- List popular languages for Data Science\n",
    "- Introduce JupyterLab and its features\n",
    "- Learn how to import and manipulate data using Python libraries\n",
    "- Understand the concept of data cleaning and preprocessing\n",
    "- Introduce basic statistical analysis methods for data exploration\n",
    "- Discuss machine learning algorithms and their applications in data science\n"
   ]
  },
  {
   "cell_type": "markdown",
   "id": "31d806b0-62ff-4594-b9c7-4ef78ea9e052",
   "metadata": {},
   "source": [
    "## Author\n",
    "Mohamed Amine Aichaoui\n"
   ]
  },
  {
   "cell_type": "code",
   "execution_count": null,
   "id": "c02e01f7-05ba-476c-8985-c64635d081e9",
   "metadata": {},
   "outputs": [],
   "source": []
  }
 ],
 "metadata": {
  "kernelspec": {
   "display_name": "Python 3 (ipykernel)",
   "language": "python",
   "name": "python3"
  },
  "language_info": {
   "codemirror_mode": {
    "name": "ipython",
    "version": 3
   },
   "file_extension": ".py",
   "mimetype": "text/x-python",
   "name": "python",
   "nbconvert_exporter": "python",
   "pygments_lexer": "ipython3",
   "version": "3.11.5"
  }
 },
 "nbformat": 4,
 "nbformat_minor": 5
}
